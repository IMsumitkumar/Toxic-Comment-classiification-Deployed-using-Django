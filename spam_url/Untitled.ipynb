{
 "cells": [
  {
   "cell_type": "code",
   "execution_count": 1,
   "metadata": {},
   "outputs": [],
   "source": [
    "import pandas as pd"
   ]
  },
  {
   "cell_type": "code",
   "execution_count": 2,
   "metadata": {},
   "outputs": [
    {
     "data": {
      "text/html": [
       "<div>\n",
       "<style scoped>\n",
       "    .dataframe tbody tr th:only-of-type {\n",
       "        vertical-align: middle;\n",
       "    }\n",
       "\n",
       "    .dataframe tbody tr th {\n",
       "        vertical-align: top;\n",
       "    }\n",
       "\n",
       "    .dataframe thead th {\n",
       "        text-align: right;\n",
       "    }\n",
       "</style>\n",
       "<table border=\"1\" class=\"dataframe\">\n",
       "  <thead>\n",
       "    <tr style=\"text-align: right;\">\n",
       "      <th></th>\n",
       "      <th>phish_id</th>\n",
       "      <th>url</th>\n",
       "      <th>phish_detail_url</th>\n",
       "      <th>submission_time</th>\n",
       "      <th>verified</th>\n",
       "      <th>verification_time</th>\n",
       "      <th>online</th>\n",
       "      <th>target</th>\n",
       "    </tr>\n",
       "  </thead>\n",
       "  <tbody>\n",
       "    <tr>\n",
       "      <th>0</th>\n",
       "      <td>6746509</td>\n",
       "      <td>https://www.empresas-lnterlbnlk-pe.com/</td>\n",
       "      <td>http://www.phishtank.com/phish_detail.php?phis...</td>\n",
       "      <td>2020-08-27T05:24:50+00:00</td>\n",
       "      <td>yes</td>\n",
       "      <td>2020-08-27T05:25:56+00:00</td>\n",
       "      <td>yes</td>\n",
       "      <td>Virustotal</td>\n",
       "    </tr>\n",
       "    <tr>\n",
       "      <th>1</th>\n",
       "      <td>6746503</td>\n",
       "      <td>https://techdirectbh.com/contact</td>\n",
       "      <td>http://www.phishtank.com/phish_detail.php?phis...</td>\n",
       "      <td>2020-08-27T05:10:16+00:00</td>\n",
       "      <td>yes</td>\n",
       "      <td>2020-08-27T05:15:51+00:00</td>\n",
       "      <td>yes</td>\n",
       "      <td>Virustotal</td>\n",
       "    </tr>\n",
       "    <tr>\n",
       "      <th>2</th>\n",
       "      <td>6746502</td>\n",
       "      <td>https://dreambodygurus.com/OMMOM/OM9u8/Office3...</td>\n",
       "      <td>http://www.phishtank.com/phish_detail.php?phis...</td>\n",
       "      <td>2020-08-27T05:03:04+00:00</td>\n",
       "      <td>yes</td>\n",
       "      <td>2020-08-27T05:12:29+00:00</td>\n",
       "      <td>yes</td>\n",
       "      <td>Other</td>\n",
       "    </tr>\n",
       "    <tr>\n",
       "      <th>3</th>\n",
       "      <td>6746501</td>\n",
       "      <td>https://my3-billinginfo.com/banks/online.tsb.c...</td>\n",
       "      <td>http://www.phishtank.com/phish_detail.php?phis...</td>\n",
       "      <td>2020-08-27T05:03:00+00:00</td>\n",
       "      <td>yes</td>\n",
       "      <td>2020-08-27T05:11:48+00:00</td>\n",
       "      <td>yes</td>\n",
       "      <td>Other</td>\n",
       "    </tr>\n",
       "    <tr>\n",
       "      <th>4</th>\n",
       "      <td>6746500</td>\n",
       "      <td>https://smamerica.com/wp-content/plugins/ii/al...</td>\n",
       "      <td>http://www.phishtank.com/phish_detail.php?phis...</td>\n",
       "      <td>2020-08-27T05:02:56+00:00</td>\n",
       "      <td>yes</td>\n",
       "      <td>2020-08-27T05:11:48+00:00</td>\n",
       "      <td>yes</td>\n",
       "      <td>Other</td>\n",
       "    </tr>\n",
       "  </tbody>\n",
       "</table>\n",
       "</div>"
      ],
      "text/plain": [
       "   phish_id                                                url  \\\n",
       "0   6746509            https://www.empresas-lnterlbnlk-pe.com/   \n",
       "1   6746503                   https://techdirectbh.com/contact   \n",
       "2   6746502  https://dreambodygurus.com/OMMOM/OM9u8/Office3...   \n",
       "3   6746501  https://my3-billinginfo.com/banks/online.tsb.c...   \n",
       "4   6746500  https://smamerica.com/wp-content/plugins/ii/al...   \n",
       "\n",
       "                                    phish_detail_url  \\\n",
       "0  http://www.phishtank.com/phish_detail.php?phis...   \n",
       "1  http://www.phishtank.com/phish_detail.php?phis...   \n",
       "2  http://www.phishtank.com/phish_detail.php?phis...   \n",
       "3  http://www.phishtank.com/phish_detail.php?phis...   \n",
       "4  http://www.phishtank.com/phish_detail.php?phis...   \n",
       "\n",
       "             submission_time verified          verification_time online  \\\n",
       "0  2020-08-27T05:24:50+00:00      yes  2020-08-27T05:25:56+00:00    yes   \n",
       "1  2020-08-27T05:10:16+00:00      yes  2020-08-27T05:15:51+00:00    yes   \n",
       "2  2020-08-27T05:03:04+00:00      yes  2020-08-27T05:12:29+00:00    yes   \n",
       "3  2020-08-27T05:03:00+00:00      yes  2020-08-27T05:11:48+00:00    yes   \n",
       "4  2020-08-27T05:02:56+00:00      yes  2020-08-27T05:11:48+00:00    yes   \n",
       "\n",
       "       target  \n",
       "0  Virustotal  \n",
       "1  Virustotal  \n",
       "2       Other  \n",
       "3       Other  \n",
       "4       Other  "
      ]
     },
     "execution_count": 2,
     "metadata": {},
     "output_type": "execute_result"
    }
   ],
   "source": [
    "data = pd.read_csv(\"verified_online - verified_online.csv\")\n",
    "data.head()"
   ]
  },
  {
   "cell_type": "code",
   "execution_count": 3,
   "metadata": {},
   "outputs": [],
   "source": [
    "data = data.iloc[:,1:5]"
   ]
  },
  {
   "cell_type": "code",
   "execution_count": 4,
   "metadata": {},
   "outputs": [
    {
     "data": {
      "text/html": [
       "<div>\n",
       "<style scoped>\n",
       "    .dataframe tbody tr th:only-of-type {\n",
       "        vertical-align: middle;\n",
       "    }\n",
       "\n",
       "    .dataframe tbody tr th {\n",
       "        vertical-align: top;\n",
       "    }\n",
       "\n",
       "    .dataframe thead th {\n",
       "        text-align: right;\n",
       "    }\n",
       "</style>\n",
       "<table border=\"1\" class=\"dataframe\">\n",
       "  <thead>\n",
       "    <tr style=\"text-align: right;\">\n",
       "      <th></th>\n",
       "      <th>url</th>\n",
       "      <th>phish_detail_url</th>\n",
       "      <th>submission_time</th>\n",
       "      <th>verified</th>\n",
       "    </tr>\n",
       "  </thead>\n",
       "  <tbody>\n",
       "    <tr>\n",
       "      <th>0</th>\n",
       "      <td>https://www.empresas-lnterlbnlk-pe.com/</td>\n",
       "      <td>http://www.phishtank.com/phish_detail.php?phis...</td>\n",
       "      <td>2020-08-27T05:24:50+00:00</td>\n",
       "      <td>yes</td>\n",
       "    </tr>\n",
       "    <tr>\n",
       "      <th>1</th>\n",
       "      <td>https://techdirectbh.com/contact</td>\n",
       "      <td>http://www.phishtank.com/phish_detail.php?phis...</td>\n",
       "      <td>2020-08-27T05:10:16+00:00</td>\n",
       "      <td>yes</td>\n",
       "    </tr>\n",
       "    <tr>\n",
       "      <th>2</th>\n",
       "      <td>https://dreambodygurus.com/OMMOM/OM9u8/Office3...</td>\n",
       "      <td>http://www.phishtank.com/phish_detail.php?phis...</td>\n",
       "      <td>2020-08-27T05:03:04+00:00</td>\n",
       "      <td>yes</td>\n",
       "    </tr>\n",
       "    <tr>\n",
       "      <th>3</th>\n",
       "      <td>https://my3-billinginfo.com/banks/online.tsb.c...</td>\n",
       "      <td>http://www.phishtank.com/phish_detail.php?phis...</td>\n",
       "      <td>2020-08-27T05:03:00+00:00</td>\n",
       "      <td>yes</td>\n",
       "    </tr>\n",
       "    <tr>\n",
       "      <th>4</th>\n",
       "      <td>https://smamerica.com/wp-content/plugins/ii/al...</td>\n",
       "      <td>http://www.phishtank.com/phish_detail.php?phis...</td>\n",
       "      <td>2020-08-27T05:02:56+00:00</td>\n",
       "      <td>yes</td>\n",
       "    </tr>\n",
       "  </tbody>\n",
       "</table>\n",
       "</div>"
      ],
      "text/plain": [
       "                                                 url  \\\n",
       "0            https://www.empresas-lnterlbnlk-pe.com/   \n",
       "1                   https://techdirectbh.com/contact   \n",
       "2  https://dreambodygurus.com/OMMOM/OM9u8/Office3...   \n",
       "3  https://my3-billinginfo.com/banks/online.tsb.c...   \n",
       "4  https://smamerica.com/wp-content/plugins/ii/al...   \n",
       "\n",
       "                                    phish_detail_url  \\\n",
       "0  http://www.phishtank.com/phish_detail.php?phis...   \n",
       "1  http://www.phishtank.com/phish_detail.php?phis...   \n",
       "2  http://www.phishtank.com/phish_detail.php?phis...   \n",
       "3  http://www.phishtank.com/phish_detail.php?phis...   \n",
       "4  http://www.phishtank.com/phish_detail.php?phis...   \n",
       "\n",
       "             submission_time verified  \n",
       "0  2020-08-27T05:24:50+00:00      yes  \n",
       "1  2020-08-27T05:10:16+00:00      yes  \n",
       "2  2020-08-27T05:03:04+00:00      yes  \n",
       "3  2020-08-27T05:03:00+00:00      yes  \n",
       "4  2020-08-27T05:02:56+00:00      yes  "
      ]
     },
     "execution_count": 4,
     "metadata": {},
     "output_type": "execute_result"
    }
   ],
   "source": [
    "data.head()"
   ]
  },
  {
   "cell_type": "code",
   "execution_count": 5,
   "metadata": {},
   "outputs": [
    {
     "name": "stdout",
     "output_type": "stream",
     "text": [
      "<class 'pandas.core.frame.DataFrame'>\n",
      "RangeIndex: 16112 entries, 0 to 16111\n",
      "Data columns (total 4 columns):\n",
      " #   Column            Non-Null Count  Dtype \n",
      "---  ------            --------------  ----- \n",
      " 0   url               16112 non-null  object\n",
      " 1   phish_detail_url  16112 non-null  object\n",
      " 2   submission_time   16112 non-null  object\n",
      " 3   verified          16112 non-null  object\n",
      "dtypes: object(4)\n",
      "memory usage: 503.6+ KB\n"
     ]
    }
   ],
   "source": [
    "data.info()"
   ]
  },
  {
   "cell_type": "code",
   "execution_count": 6,
   "metadata": {},
   "outputs": [
    {
     "data": {
      "text/plain": [
       "yes    16112\n",
       "Name: verified, dtype: int64"
      ]
     },
     "execution_count": 6,
     "metadata": {},
     "output_type": "execute_result"
    }
   ],
   "source": [
    "data['verified'].value_counts()"
   ]
  },
  {
   "cell_type": "code",
   "execution_count": null,
   "metadata": {},
   "outputs": [],
   "source": []
  }
 ],
 "metadata": {
  "kernelspec": {
   "display_name": "Python 3",
   "language": "python",
   "name": "python3"
  },
  "language_info": {
   "codemirror_mode": {
    "name": "ipython",
    "version": 3
   },
   "file_extension": ".py",
   "mimetype": "text/x-python",
   "name": "python",
   "nbconvert_exporter": "python",
   "pygments_lexer": "ipython3",
   "version": "3.7.4"
  }
 },
 "nbformat": 4,
 "nbformat_minor": 4
}
